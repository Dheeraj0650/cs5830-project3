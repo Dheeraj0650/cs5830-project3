{
 "cells": [
  {
   "cell_type": "code",
   "execution_count": null,
   "metadata": {
    "id": "A-TJ-snBNx0a"
   },
   "outputs": [],
   "source": [
    "import requests \n",
    "from bs4 import BeautifulSoup as bs \n",
    "import seaborn as sns\n",
    "from scipy import stats\n",
    "import scipy.stats as stats\n",
    "import pandas as pd \n",
    "import matplotlib.pyplot as plt\n",
    "\n",
    "r = requests.get('https://us.youtubers.me/global/all/top-1000-most-subscribed-youtube-channels') \n",
    "population = requests.get('https://www.worldometers.info/world-population/population-by-country') \n",
    "soup = bs(r.content)\n",
    "populationSoup = bs(population.content)"
   ]
  },
  {
   "cell_type": "code",
   "execution_count": null,
   "metadata": {
    "colab": {
     "base_uri": "https://localhost:8080/"
    },
    "id": "l0pZOmzxN4-O",
    "outputId": "95be8d67-28eb-438c-9d56-d6be96007d33"
   },
   "outputs": [],
   "source": [
    "# fetch the table data from website and store in variable locally\n",
    "\n",
    "table = soup.select('table')[0] \n",
    "columns = table.find_all('th')\n",
    "\n",
    "table1 = populationSoup.select('table')[0] \n",
    "column1s = table1.find_all('th')"
   ]
  },
  {
   "cell_type": "code",
   "execution_count": null,
   "metadata": {
    "colab": {
     "base_uri": "https://localhost:8080/",
     "height": 419
    },
    "id": "-5zU400VN_5i",
    "outputId": "5ab973c9-1665-4f72-d3f3-62a92da492a8"
   },
   "outputs": [],
   "source": [
    "# store the fetched data in the form of dataframe.\n",
    "\n",
    "table_df = pd.read_html(str(table))[0]\n",
    "table_df[table_df.isna().any(axis=1)]\n",
    "table_df = table_df.dropna()\n",
    "table_df['older'] = 2023 - table_df['started']\n",
    "table_df"
   ]
  },
  {
   "cell_type": "code",
   "execution_count": null,
   "metadata": {},
   "outputs": [],
   "source": [
    "# store the fetched data in the form of dataframe.\n",
    "\n",
    "table_df1 = pd.read_html(str(table1))[0]\n",
    "table_df1[table_df1.isna().any(axis=1)]\n",
    "table_df1 = table_df1.dropna()\n",
    "table_df1 = table_df1[[\"Country (or dependency)\", \"Population (2020)\"]]\n",
    "table_df1.columns = [\"country\", \"population\"]\n",
    "table_df1"
   ]
  },
  {
   "cell_type": "code",
   "execution_count": null,
   "metadata": {},
   "outputs": [],
   "source": [
    "wikiurls = {\n",
    "            '2023':\"https://en.wikipedia.org/w/index.php?title=List_of_most-subscribed_YouTube_channels&oldid=1137714711\",\n",
    "            '2022':\"https://en.wikipedia.org/w/index.php?title=List_of_most-subscribed_YouTube_channels&oldid=1130583610\",\n",
    "            '2021':\"https://en.wikipedia.org/w/index.php?title=List_of_most-subscribed_YouTube_channels&oldid=1063042127\",\n",
    "            }\n",
    "\n",
    "table_class=\"wikitable sortable jquery-tablesorter\"\n",
    "\n",
    "wikiResponseArray = [[year, requests.get(wikiurls[year])] for year in wikiurls]\n",
    "print(wikiResponseArray)"
   ]
  },
  {
   "cell_type": "code",
   "execution_count": null,
   "metadata": {
    "scrolled": true
   },
   "outputs": [],
   "source": [
    "# fetch the table data from website, remove the columns which are not required and store in variable locally\n",
    "\n",
    "def getDataFrame(data):    \n",
    "    soup = bs(data.text, 'html.parser')\n",
    "    indiatable=soup.find('table',{'class':\"wikitable sortable\"})\n",
    "    df=pd.read_html(str(indiatable))\n",
    "    df=pd.DataFrame(df[0]).head(49)\n",
    "    df.columns= [\"rank\", \"name\",\"link\", \"brand channel\" ,\"subscribers\", \"primary language\", \"category\" ,\"country\"]\n",
    "    df['subscribers'] = df['subscribers'].astype(str).str.replace('$', '',regex=True).astype('float')\n",
    "    df['primary language'] = df['primary language'].str.replace('[^a-zA-Z]', '',regex=True)\n",
    "    return df\n",
    "\n",
    "df = getDataFrame(wikiResponseArray[0][1])\n",
    "df_2022 = getDataFrame(wikiResponseArray[1][1])\n",
    "df"
   ]
  },
  {
   "cell_type": "markdown",
   "metadata": {},
   "source": [
    "## Analysis 1:- How subscribers count correlates to video views of a video in youtube."
   ]
  },
  {
   "cell_type": "code",
   "execution_count": null,
   "metadata": {},
   "outputs": [],
   "source": [
    "sns.regplot(data=table_df, x='subscribers', y='video views')"
   ]
  },
  {
   "cell_type": "code",
   "execution_count": null,
   "metadata": {},
   "outputs": [],
   "source": [
    "# Pearson correlation coefficient r\n",
    "(r,p) = stats.pearsonr(table_df.subscribers, table_df['video views'])\n",
    "print('r =', r, 'p =', p)"
   ]
  },
  {
   "cell_type": "markdown",
   "metadata": {},
   "source": [
    "## Analysis 2:- How number of subscribers get varied along with category, country and primary language."
   ]
  },
  {
   "cell_type": "code",
   "execution_count": null,
   "metadata": {},
   "outputs": [],
   "source": [
    "fig, ax = plt.subplots(figsize=(15, 6))\n",
    "\n",
    "plt.xticks(rotation='vertical', fontsize=12)\n",
    "plt.xlabel('category', fontsize=18)\n",
    "plt.ylabel('subscribers', fontsize=18)\n",
    "\n",
    "categoryToSubscribers = table_df.groupby(['category']).agg({'subscribers':'sum'}).reset_index()\n",
    "sns.barplot(data=categoryToSubscribers, x='category', y='subscribers')\n",
    "\n",
    "\n",
    "\n",
    "fig, ax = plt.subplots(figsize=(15, 6))\n",
    "\n",
    "plt.xticks(rotation='vertical', fontsize=12)\n",
    "plt.xlabel('Country', fontsize=18)\n",
    "plt.ylabel('subscribers', fontsize=18)\n",
    "\n",
    "countryToSubscribers = df.groupby(['country']).agg({'subscribers':'sum'}).reset_index()\n",
    "sns.barplot(data=countryToSubscribers, x='country', y='subscribers')\n",
    "\n",
    "\n",
    "\n",
    "fig, ax = plt.subplots(figsize=(15, 6))\n",
    "\n",
    "plt.xticks(rotation='vertical', fontsize=12)\n",
    "plt.xlabel('Country', fontsize=18)\n",
    "plt.ylabel('subscribers', fontsize=18)\n",
    "\n",
    "countryToSubscribers = df.groupby(['primary language']).agg({'subscribers':'sum'}).reset_index()\n",
    "sns.barplot(data=countryToSubscribers, x='primary language', y='subscribers')\n"
   ]
  },
  {
   "cell_type": "markdown",
   "metadata": {},
   "source": [
    "## Analysis 3 :- Countries having more brand channels."
   ]
  },
  {
   "cell_type": "code",
   "execution_count": null,
   "metadata": {},
   "outputs": [],
   "source": [
    "df['rank'] = df['rank'].astype(str).str.replace('$', '',regex=True).astype('int64')\n",
    "table_df['rank'] = table_df['rank'].astype(str).str.replace('$', '',regex=True).astype('int64')\n",
    "\n",
    "mergedTable = pd.merge(df.head(48), table_df, on='rank')\n",
    "\n",
    "catplot_tick = sns.catplot(x='country', hue='brand channel', data=mergedTable, kind='count', height=10, aspect=2)\n",
    "catplot_tick.set_xlabels('country', fontsize=20) # not set_label\n",
    "catplot_tick.set_ylabels('brand channel count', fontsize=20)"
   ]
  },
  {
   "cell_type": "markdown",
   "metadata": {},
   "source": [
    "## Analysis 4 :- How population of country correlates to subscribers in youtube channel."
   ]
  },
  {
   "cell_type": "code",
   "execution_count": null,
   "metadata": {},
   "outputs": [],
   "source": [
    "mergedTable1 = pd.merge(table_df1, df, on='country')\n",
    "\n",
    "populationToSubscribers = mergedTable1.groupby(['country']).agg({'subscribers':'sum','population':'sum'}).reset_index()\n",
    "\n",
    "fig, ax = plt.subplots(figsize=(20, 10))\n",
    "\n",
    "plt.xlabel('country', fontsize=18)\n",
    "plt.ylabel('population', fontsize=18)\n",
    "\n",
    "sns.barplot(data=mergedTable1, x='country', y='population')\n",
    "\n",
    "\n",
    "In\n",
    "fig, ax = plt.subplots(figsize=(20, 10))\n",
    "\n",
    "plt.xlabel('subscribers', fontsize=18)\n",
    "plt.ylabel('population', fontsize=18)\n",
    "\n",
    "sns.regplot(x='subscribers', y='population', data=populationToSubscribers)\n",
    "\n",
    "\n",
    "\n",
    "fig, ax = plt.subplots(figsize=(15, 6))\n",
    "\n",
    "plt.xticks(rotation='vertical', fontsize=12)\n",
    "plt.xlabel('country', fontsize=18)\n",
    "plt.ylabel('subscribers', fontsize=18)\n",
    "\n",
    "\n",
    "countryToSubscribers = mergedTable1.groupby(['country']).agg({'subscribers':'sum'}).reset_index()\n",
    "sns.barplot(data=countryToSubscribers.sort_values(by='subscribers', ascending=False), x='country', y='subscribers')"
   ]
  },
  {
   "cell_type": "code",
   "execution_count": null,
   "metadata": {},
   "outputs": [],
   "source": [
    "# Pearson correlation coefficient r\n",
    "(r,p) = stats.pearsonr(populationToSubscribers.subscribers, populationToSubscribers.population)\n",
    "print('r =', r, 'p =', p)"
   ]
  },
  {
   "cell_type": "markdown",
   "metadata": {},
   "source": [
    "## Analysis 5:- How subscribers count depends on how older the channel is and video views."
   ]
  },
  {
   "cell_type": "code",
   "execution_count": null,
   "metadata": {},
   "outputs": [],
   "source": [
    "sns.scatterplot(data=table_df[table_df['older'] <= 20].sample(frac=0.1), x='subscribers', y='older')"
   ]
  },
  {
   "cell_type": "code",
   "execution_count": null,
   "metadata": {},
   "outputs": [],
   "source": [
    "sns.scatterplot(x='subscribers', y='video views', data=table_df)"
   ]
  }
 ],
 "metadata": {
  "colab": {
   "provenance": []
  },
  "kernelspec": {
   "display_name": "Python 3 (ipykernel)",
   "language": "python",
   "name": "python3"
  },
  "language_info": {
   "codemirror_mode": {
    "name": "ipython",
    "version": 3
   },
   "file_extension": ".py",
   "mimetype": "text/x-python",
   "name": "python",
   "nbconvert_exporter": "python",
   "pygments_lexer": "ipython3",
   "version": "3.9.12"
  }
 },
 "nbformat": 4,
 "nbformat_minor": 1
}
