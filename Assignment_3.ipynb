{
 "cells": [
  {
   "cell_type": "code",
   "execution_count": 1,
   "metadata": {
    "id": "A-TJ-snBNx0a"
   },
   "outputs": [],
   "source": [
    "import requests \n",
    "from bs4 import BeautifulSoup as bs \n",
    "import seaborn as sns\n",
    "from scipy import stats\n",
    "import scipy.stats as stats\n",
    "import pandas as pd \n",
    "import matplotlib.pyplot as plt\n",
    "\n",
    "r = requests.get('https://us.youtubers.me/global/all/top-1000-most-subscribed-youtube-channels') \n",
    "soup = bs(r.content)"
   ]
  },
  {
   "cell_type": "code",
   "execution_count": 2,
   "metadata": {
    "colab": {
     "base_uri": "https://localhost:8080/"
    },
    "id": "l0pZOmzxN4-O",
    "outputId": "95be8d67-28eb-438c-9d56-d6be96007d33"
   },
   "outputs": [],
   "source": [
    "table = soup.select('table')[0] \n",
    "columns = table.find_all('th')"
   ]
  },
  {
   "cell_type": "code",
   "execution_count": 3,
   "metadata": {
    "colab": {
     "base_uri": "https://localhost:8080/",
     "height": 419
    },
    "id": "-5zU400VN_5i",
    "outputId": "5ab973c9-1665-4f72-d3f3-62a92da492a8"
   },
   "outputs": [
    {
     "data": {
      "text/html": [
       "<div>\n",
       "<style scoped>\n",
       "    .dataframe tbody tr th:only-of-type {\n",
       "        vertical-align: middle;\n",
       "    }\n",
       "\n",
       "    .dataframe tbody tr th {\n",
       "        vertical-align: top;\n",
       "    }\n",
       "\n",
       "    .dataframe thead th {\n",
       "        text-align: right;\n",
       "    }\n",
       "</style>\n",
       "<table border=\"1\" class=\"dataframe\">\n",
       "  <thead>\n",
       "    <tr style=\"text-align: right;\">\n",
       "      <th></th>\n",
       "      <th>rank</th>\n",
       "      <th>Youtuber</th>\n",
       "      <th>subscribers</th>\n",
       "      <th>video views</th>\n",
       "      <th>video count</th>\n",
       "      <th>category</th>\n",
       "      <th>started</th>\n",
       "      <th>older</th>\n",
       "    </tr>\n",
       "  </thead>\n",
       "  <tbody>\n",
       "    <tr>\n",
       "      <th>0</th>\n",
       "      <td>1</td>\n",
       "      <td>T-Series</td>\n",
       "      <td>235000000</td>\n",
       "      <td>214879618375</td>\n",
       "      <td>18682</td>\n",
       "      <td>Music</td>\n",
       "      <td>2006</td>\n",
       "      <td>17</td>\n",
       "    </tr>\n",
       "    <tr>\n",
       "      <th>1</th>\n",
       "      <td>2</td>\n",
       "      <td>YouTube Movies</td>\n",
       "      <td>162000000</td>\n",
       "      <td>0</td>\n",
       "      <td>0</td>\n",
       "      <td>Film &amp; Animation</td>\n",
       "      <td>2015</td>\n",
       "      <td>8</td>\n",
       "    </tr>\n",
       "    <tr>\n",
       "      <th>2</th>\n",
       "      <td>3</td>\n",
       "      <td>Cocomelon - Nursery Rhymes</td>\n",
       "      <td>153000000</td>\n",
       "      <td>150914837068</td>\n",
       "      <td>855</td>\n",
       "      <td>Education</td>\n",
       "      <td>2006</td>\n",
       "      <td>17</td>\n",
       "    </tr>\n",
       "    <tr>\n",
       "      <th>3</th>\n",
       "      <td>4</td>\n",
       "      <td>SET India</td>\n",
       "      <td>151000000</td>\n",
       "      <td>139174285312</td>\n",
       "      <td>104636</td>\n",
       "      <td>Shows</td>\n",
       "      <td>2006</td>\n",
       "      <td>17</td>\n",
       "    </tr>\n",
       "    <tr>\n",
       "      <th>4</th>\n",
       "      <td>5</td>\n",
       "      <td>MrBeast</td>\n",
       "      <td>132000000</td>\n",
       "      <td>22317660280</td>\n",
       "      <td>734</td>\n",
       "      <td>Entertainment</td>\n",
       "      <td>2012</td>\n",
       "      <td>11</td>\n",
       "    </tr>\n",
       "    <tr>\n",
       "      <th>...</th>\n",
       "      <td>...</td>\n",
       "      <td>...</td>\n",
       "      <td>...</td>\n",
       "      <td>...</td>\n",
       "      <td>...</td>\n",
       "      <td>...</td>\n",
       "      <td>...</td>\n",
       "      <td>...</td>\n",
       "    </tr>\n",
       "    <tr>\n",
       "      <th>995</th>\n",
       "      <td>996</td>\n",
       "      <td>CarryisLive</td>\n",
       "      <td>11600000</td>\n",
       "      <td>1454501310</td>\n",
       "      <td>947</td>\n",
       "      <td>Gaming</td>\n",
       "      <td>2017</td>\n",
       "      <td>6</td>\n",
       "    </tr>\n",
       "    <tr>\n",
       "      <th>996</th>\n",
       "      <td>997</td>\n",
       "      <td>Painzeiro</td>\n",
       "      <td>11600000</td>\n",
       "      <td>2208168452</td>\n",
       "      <td>969</td>\n",
       "      <td>People &amp; Blogs</td>\n",
       "      <td>2015</td>\n",
       "      <td>8</td>\n",
       "    </tr>\n",
       "    <tr>\n",
       "      <th>997</th>\n",
       "      <td>998</td>\n",
       "      <td>Alexa Rivera</td>\n",
       "      <td>11600000</td>\n",
       "      <td>2518823177</td>\n",
       "      <td>259</td>\n",
       "      <td>Howto &amp; Style</td>\n",
       "      <td>2010</td>\n",
       "      <td>13</td>\n",
       "    </tr>\n",
       "    <tr>\n",
       "      <th>998</th>\n",
       "      <td>999</td>\n",
       "      <td>The Film Theorists</td>\n",
       "      <td>11600000</td>\n",
       "      <td>2453689060</td>\n",
       "      <td>387</td>\n",
       "      <td>Film &amp; Animation</td>\n",
       "      <td>2014</td>\n",
       "      <td>9</td>\n",
       "    </tr>\n",
       "    <tr>\n",
       "      <th>999</th>\n",
       "      <td>1000</td>\n",
       "      <td>Machinima</td>\n",
       "      <td>11600000</td>\n",
       "      <td>0</td>\n",
       "      <td>0</td>\n",
       "      <td>Film &amp; Animation</td>\n",
       "      <td>2006</td>\n",
       "      <td>17</td>\n",
       "    </tr>\n",
       "  </tbody>\n",
       "</table>\n",
       "<p>968 rows × 8 columns</p>\n",
       "</div>"
      ],
      "text/plain": [
       "     rank                    Youtuber  subscribers   video views  video count  \\\n",
       "0       1                    T-Series    235000000  214879618375        18682   \n",
       "1       2              YouTube Movies    162000000             0            0   \n",
       "2       3  Cocomelon - Nursery Rhymes    153000000  150914837068          855   \n",
       "3       4                   SET India    151000000  139174285312       104636   \n",
       "4       5                     MrBeast    132000000   22317660280          734   \n",
       "..    ...                         ...          ...           ...          ...   \n",
       "995   996                 CarryisLive     11600000    1454501310          947   \n",
       "996   997                   Painzeiro     11600000    2208168452          969   \n",
       "997   998                Alexa Rivera     11600000    2518823177          259   \n",
       "998   999          The Film Theorists     11600000    2453689060          387   \n",
       "999  1000                   Machinima     11600000             0            0   \n",
       "\n",
       "             category  started  older  \n",
       "0               Music     2006     17  \n",
       "1    Film & Animation     2015      8  \n",
       "2           Education     2006     17  \n",
       "3               Shows     2006     17  \n",
       "4       Entertainment     2012     11  \n",
       "..                ...      ...    ...  \n",
       "995            Gaming     2017      6  \n",
       "996    People & Blogs     2015      8  \n",
       "997     Howto & Style     2010     13  \n",
       "998  Film & Animation     2014      9  \n",
       "999  Film & Animation     2006     17  \n",
       "\n",
       "[968 rows x 8 columns]"
      ]
     },
     "execution_count": 3,
     "metadata": {},
     "output_type": "execute_result"
    }
   ],
   "source": [
    "table_df = pd.read_html(str(table))[0]\n",
    "table_df[table_df.isna().any(axis=1)]\n",
    "table_df = table_df.dropna()\n",
    "table_df['older'] = 2023 - table_df['started']\n",
    "table_df"
   ]
  },
  {
   "cell_type": "code",
   "execution_count": 4,
   "metadata": {},
   "outputs": [
    {
     "name": "stdout",
     "output_type": "stream",
     "text": [
      "['2023', 200]\n",
      "['2022', 200]\n",
      "['2021', 200]\n",
      "['2020', 200]\n",
      "['2019', 200]\n",
      "['2017', 200]\n",
      "['2016', 200]\n",
      "['2015', 200]\n",
      "['2014', 200]\n",
      "['2013', 200]\n",
      "[['2023', <Response [200]>], ['2022', <Response [200]>], ['2021', <Response [200]>], ['2020', <Response [200]>], ['2019', <Response [200]>], ['2017', <Response [200]>], ['2016', <Response [200]>], ['2015', <Response [200]>], ['2014', <Response [200]>], ['2013', <Response [200]>]]\n"
     ]
    }
   ],
   "source": [
    "# get the response in the form of html\n",
    "wikiurls = {\n",
    "            '2023':\"https://en.wikipedia.org/w/index.php?title=List_of_most-subscribed_YouTube_channels&oldid=1137714711\",\n",
    "            '2022':\"https://en.wikipedia.org/w/index.php?title=List_of_most-subscribed_YouTube_channels&oldid=1130583610\",\n",
    "            '2021':\"https://en.wikipedia.org/w/index.php?title=List_of_most-subscribed_YouTube_channels&oldid=1063042127\",\n",
    "            '2020':\"https://en.wikipedia.org/w/index.php?title=List_of_most-subscribed_YouTube_channels&oldid=997160923\",\n",
    "            '2019':\"https://en.wikipedia.org/w/index.php?title=List_of_most-subscribed_YouTube_channels&oldid=933295252\",\n",
    "            '2017':\"https://en.wikipedia.org/w/index.php?title=List_of_most-subscribed_YouTube_channels&oldid=817975501\",\n",
    "            '2016':\"https://en.wikipedia.org/w/index.php?title=List_of_most-subscribed_YouTube_channels&oldid=757339173\",\n",
    "            '2015':\"https://en.wikipedia.org/w/index.php?title=List_of_most-subscribed_YouTube_channels&oldid=697648696\",\n",
    "            '2014':\"https://en.wikipedia.org/w/index.php?title=List_of_most-subscribed_YouTube_channels&oldid=639808531\",\n",
    "            '2013':\"https://en.wikipedia.org/w/index.php?title=List_of_most-subscribed_YouTube_channels&oldid=588583725\"\n",
    "           }\n",
    "\n",
    "table_class=\"wikitable sortable jquery-tablesorter\"\n",
    "\n",
    "wikiResponseArray = []\n",
    "for year in wikiurls:\n",
    "  response=requests.get(wikiurls[year])\n",
    "  wikiResponseArray.append([year, response])\n",
    "  print([year, response.status_code])\n",
    "\n",
    "print(wikiResponseArray)"
   ]
  },
  {
   "cell_type": "code",
   "execution_count": 5,
   "metadata": {},
   "outputs": [
    {
     "data": {
      "text/html": [
       "<div>\n",
       "<style scoped>\n",
       "    .dataframe tbody tr th:only-of-type {\n",
       "        vertical-align: middle;\n",
       "    }\n",
       "\n",
       "    .dataframe tbody tr th {\n",
       "        vertical-align: top;\n",
       "    }\n",
       "\n",
       "    .dataframe thead th {\n",
       "        text-align: right;\n",
       "    }\n",
       "</style>\n",
       "<table border=\"1\" class=\"dataframe\">\n",
       "  <thead>\n",
       "    <tr style=\"text-align: right;\">\n",
       "      <th></th>\n",
       "      <th>rank</th>\n",
       "      <th>name</th>\n",
       "      <th>link</th>\n",
       "      <th>brand channel</th>\n",
       "      <th>subscribers (millions)</th>\n",
       "      <th>primary language</th>\n",
       "      <th>category</th>\n",
       "      <th>country</th>\n",
       "    </tr>\n",
       "  </thead>\n",
       "  <tbody>\n",
       "    <tr>\n",
       "      <th>0</th>\n",
       "      <td>1</td>\n",
       "      <td>T-Series</td>\n",
       "      <td>Link</td>\n",
       "      <td>Yes</td>\n",
       "      <td>235.0</td>\n",
       "      <td>Hindi</td>\n",
       "      <td>Music</td>\n",
       "      <td>India</td>\n",
       "    </tr>\n",
       "    <tr>\n",
       "      <th>1</th>\n",
       "      <td>2</td>\n",
       "      <td>Cocomelon</td>\n",
       "      <td>Link</td>\n",
       "      <td>Yes</td>\n",
       "      <td>153.0</td>\n",
       "      <td>English</td>\n",
       "      <td>Education</td>\n",
       "      <td>United States</td>\n",
       "    </tr>\n",
       "    <tr>\n",
       "      <th>2</th>\n",
       "      <td>3</td>\n",
       "      <td>Sony Entertainment Television India</td>\n",
       "      <td>Link</td>\n",
       "      <td>Yes</td>\n",
       "      <td>151.0</td>\n",
       "      <td>Hindi</td>\n",
       "      <td>Entertainment</td>\n",
       "      <td>India</td>\n",
       "    </tr>\n",
       "    <tr>\n",
       "      <th>3</th>\n",
       "      <td>4</td>\n",
       "      <td>MrBeast</td>\n",
       "      <td>Link</td>\n",
       "      <td>No</td>\n",
       "      <td>132.0</td>\n",
       "      <td>English</td>\n",
       "      <td>Entertainment</td>\n",
       "      <td>United States</td>\n",
       "    </tr>\n",
       "    <tr>\n",
       "      <th>4</th>\n",
       "      <td>5</td>\n",
       "      <td>PewDiePie</td>\n",
       "      <td>Link</td>\n",
       "      <td>No</td>\n",
       "      <td>111.0</td>\n",
       "      <td>English</td>\n",
       "      <td>Games</td>\n",
       "      <td>Sweden</td>\n",
       "    </tr>\n",
       "    <tr>\n",
       "      <th>5</th>\n",
       "      <td>6</td>\n",
       "      <td>Kids Diana Show</td>\n",
       "      <td>Link</td>\n",
       "      <td>Yes</td>\n",
       "      <td>107.0</td>\n",
       "      <td>English</td>\n",
       "      <td>Entertainment</td>\n",
       "      <td>Ukraine</td>\n",
       "    </tr>\n",
       "    <tr>\n",
       "      <th>6</th>\n",
       "      <td>7</td>\n",
       "      <td>Like Nastya</td>\n",
       "      <td>Link</td>\n",
       "      <td>No</td>\n",
       "      <td>104.0</td>\n",
       "      <td>English</td>\n",
       "      <td>Entertainment</td>\n",
       "      <td>United States</td>\n",
       "    </tr>\n",
       "    <tr>\n",
       "      <th>7</th>\n",
       "      <td>8</td>\n",
       "      <td>WWE</td>\n",
       "      <td>Link</td>\n",
       "      <td>Yes</td>\n",
       "      <td>93.2</td>\n",
       "      <td>English</td>\n",
       "      <td>Sports</td>\n",
       "      <td>United States</td>\n",
       "    </tr>\n",
       "    <tr>\n",
       "      <th>8</th>\n",
       "      <td>9</td>\n",
       "      <td>Vlad and Niki</td>\n",
       "      <td>Link</td>\n",
       "      <td>No</td>\n",
       "      <td>93.1</td>\n",
       "      <td>English</td>\n",
       "      <td>Entertainment</td>\n",
       "      <td>Russia</td>\n",
       "    </tr>\n",
       "    <tr>\n",
       "      <th>9</th>\n",
       "      <td>10</td>\n",
       "      <td>Zee Music Company</td>\n",
       "      <td>Link</td>\n",
       "      <td>Yes</td>\n",
       "      <td>92.1</td>\n",
       "      <td>Hindi</td>\n",
       "      <td>Music</td>\n",
       "      <td>India</td>\n",
       "    </tr>\n",
       "    <tr>\n",
       "      <th>10</th>\n",
       "      <td>11</td>\n",
       "      <td>Blackpink</td>\n",
       "      <td>Link</td>\n",
       "      <td>Yes</td>\n",
       "      <td>84.2</td>\n",
       "      <td>Korean</td>\n",
       "      <td>Music</td>\n",
       "      <td>South Korea</td>\n",
       "    </tr>\n",
       "    <tr>\n",
       "      <th>11</th>\n",
       "      <td>12</td>\n",
       "      <td>Goldmines</td>\n",
       "      <td>Link</td>\n",
       "      <td>Yes</td>\n",
       "      <td>81.9</td>\n",
       "      <td>Hindi</td>\n",
       "      <td>Film</td>\n",
       "      <td>India</td>\n",
       "    </tr>\n",
       "    <tr>\n",
       "      <th>12</th>\n",
       "      <td>13</td>\n",
       "      <td>5-Minute Crafts</td>\n",
       "      <td>Link</td>\n",
       "      <td>Yes</td>\n",
       "      <td>78.7</td>\n",
       "      <td>English</td>\n",
       "      <td>How-to</td>\n",
       "      <td>Cyprus[a]</td>\n",
       "    </tr>\n",
       "    <tr>\n",
       "      <th>13</th>\n",
       "      <td>14</td>\n",
       "      <td>Sony SAB</td>\n",
       "      <td>Link</td>\n",
       "      <td>Yes</td>\n",
       "      <td>76.9</td>\n",
       "      <td>Hindi</td>\n",
       "      <td>Entertainment</td>\n",
       "      <td>India</td>\n",
       "    </tr>\n",
       "    <tr>\n",
       "      <th>14</th>\n",
       "      <td>15</td>\n",
       "      <td>BangtanTV</td>\n",
       "      <td>Link</td>\n",
       "      <td>No</td>\n",
       "      <td>73.4</td>\n",
       "      <td>Korean</td>\n",
       "      <td>Music</td>\n",
       "      <td>South Korea</td>\n",
       "    </tr>\n",
       "    <tr>\n",
       "      <th>15</th>\n",
       "      <td>16</td>\n",
       "      <td>Justin Bieber</td>\n",
       "      <td>Link</td>\n",
       "      <td>No</td>\n",
       "      <td>70.9</td>\n",
       "      <td>English</td>\n",
       "      <td>Music</td>\n",
       "      <td>Canada</td>\n",
       "    </tr>\n",
       "    <tr>\n",
       "      <th>16</th>\n",
       "      <td>17</td>\n",
       "      <td>Hybe Labels</td>\n",
       "      <td>Link</td>\n",
       "      <td>Yes</td>\n",
       "      <td>69.2</td>\n",
       "      <td>Korean</td>\n",
       "      <td>Music</td>\n",
       "      <td>South Korea</td>\n",
       "    </tr>\n",
       "    <tr>\n",
       "      <th>17</th>\n",
       "      <td>18</td>\n",
       "      <td>Canal KondZilla</td>\n",
       "      <td>Link</td>\n",
       "      <td>Yes</td>\n",
       "      <td>66.4</td>\n",
       "      <td>Portuguese</td>\n",
       "      <td>Music</td>\n",
       "      <td>Brazil</td>\n",
       "    </tr>\n",
       "    <tr>\n",
       "      <th>18</th>\n",
       "      <td>19</td>\n",
       "      <td>Zee TV</td>\n",
       "      <td>Link</td>\n",
       "      <td>Yes</td>\n",
       "      <td>65.6</td>\n",
       "      <td>Hindi</td>\n",
       "      <td>Entertainment</td>\n",
       "      <td>India</td>\n",
       "    </tr>\n",
       "    <tr>\n",
       "      <th>19</th>\n",
       "      <td>20</td>\n",
       "      <td>Pinkfong</td>\n",
       "      <td>Link</td>\n",
       "      <td>Yes</td>\n",
       "      <td>65.1</td>\n",
       "      <td>English</td>\n",
       "      <td>Education</td>\n",
       "      <td>South Korea</td>\n",
       "    </tr>\n",
       "    <tr>\n",
       "      <th>20</th>\n",
       "      <td>21</td>\n",
       "      <td>Shemaroo Entertainment</td>\n",
       "      <td>Link</td>\n",
       "      <td>Yes</td>\n",
       "      <td>63.7</td>\n",
       "      <td>Hindi</td>\n",
       "      <td>Music</td>\n",
       "      <td>India</td>\n",
       "    </tr>\n",
       "    <tr>\n",
       "      <th>21</th>\n",
       "      <td>22</td>\n",
       "      <td>ChuChu TV</td>\n",
       "      <td>Link</td>\n",
       "      <td>Yes</td>\n",
       "      <td>61.5</td>\n",
       "      <td>Hindi</td>\n",
       "      <td>Education</td>\n",
       "      <td>India</td>\n",
       "    </tr>\n",
       "    <tr>\n",
       "      <th>22</th>\n",
       "      <td>23</td>\n",
       "      <td>Colors TV</td>\n",
       "      <td>Link</td>\n",
       "      <td>Yes</td>\n",
       "      <td>59.7</td>\n",
       "      <td>Hindi</td>\n",
       "      <td>Entertainment</td>\n",
       "      <td>India</td>\n",
       "    </tr>\n",
       "    <tr>\n",
       "      <th>23</th>\n",
       "      <td>24</td>\n",
       "      <td>Dude Perfect</td>\n",
       "      <td>Link</td>\n",
       "      <td>No</td>\n",
       "      <td>58.6</td>\n",
       "      <td>English</td>\n",
       "      <td>Sports</td>\n",
       "      <td>United States</td>\n",
       "    </tr>\n",
       "    <tr>\n",
       "      <th>24</th>\n",
       "      <td>25</td>\n",
       "      <td>Movieclips</td>\n",
       "      <td>Link</td>\n",
       "      <td>Yes</td>\n",
       "      <td>58.6</td>\n",
       "      <td>English</td>\n",
       "      <td>Film</td>\n",
       "      <td>United States</td>\n",
       "    </tr>\n",
       "    <tr>\n",
       "      <th>25</th>\n",
       "      <td>26</td>\n",
       "      <td>T-Series Bhakti Sagar</td>\n",
       "      <td>Link</td>\n",
       "      <td>Yes</td>\n",
       "      <td>57.6</td>\n",
       "      <td>Hindi</td>\n",
       "      <td>Music</td>\n",
       "      <td>India</td>\n",
       "    </tr>\n",
       "    <tr>\n",
       "      <th>26</th>\n",
       "      <td>27</td>\n",
       "      <td>Tips Industries</td>\n",
       "      <td>Link</td>\n",
       "      <td>Yes</td>\n",
       "      <td>56.6</td>\n",
       "      <td>Hindi</td>\n",
       "      <td>Entertainment</td>\n",
       "      <td>India</td>\n",
       "    </tr>\n",
       "    <tr>\n",
       "      <th>27</th>\n",
       "      <td>28</td>\n",
       "      <td>Marshmello</td>\n",
       "      <td>Link</td>\n",
       "      <td>No</td>\n",
       "      <td>56.1</td>\n",
       "      <td>English</td>\n",
       "      <td>Music</td>\n",
       "      <td>United States</td>\n",
       "    </tr>\n",
       "    <tr>\n",
       "      <th>28</th>\n",
       "      <td>29</td>\n",
       "      <td>Wave Music</td>\n",
       "      <td>Link</td>\n",
       "      <td>Yes</td>\n",
       "      <td>56.0</td>\n",
       "      <td>Bhojpuri</td>\n",
       "      <td>Music</td>\n",
       "      <td>India</td>\n",
       "    </tr>\n",
       "    <tr>\n",
       "      <th>29</th>\n",
       "      <td>30</td>\n",
       "      <td>Sony Music India</td>\n",
       "      <td>Link</td>\n",
       "      <td>Yes</td>\n",
       "      <td>55.7</td>\n",
       "      <td>Hindi</td>\n",
       "      <td>Music</td>\n",
       "      <td>India</td>\n",
       "    </tr>\n",
       "    <tr>\n",
       "      <th>30</th>\n",
       "      <td>31</td>\n",
       "      <td>Aaj Tak</td>\n",
       "      <td>Link</td>\n",
       "      <td>Yes</td>\n",
       "      <td>55.5</td>\n",
       "      <td>Hindi</td>\n",
       "      <td>News</td>\n",
       "      <td>India</td>\n",
       "    </tr>\n",
       "    <tr>\n",
       "      <th>31</th>\n",
       "      <td>33</td>\n",
       "      <td>El Reino Infantil</td>\n",
       "      <td>Link</td>\n",
       "      <td>Yes</td>\n",
       "      <td>55.3</td>\n",
       "      <td>Spanish</td>\n",
       "      <td>Music</td>\n",
       "      <td>Argentina</td>\n",
       "    </tr>\n",
       "    <tr>\n",
       "      <th>32</th>\n",
       "      <td>32</td>\n",
       "      <td>Eminem</td>\n",
       "      <td>Link</td>\n",
       "      <td>No</td>\n",
       "      <td>55.2</td>\n",
       "      <td>English</td>\n",
       "      <td>Music</td>\n",
       "      <td>United States</td>\n",
       "    </tr>\n",
       "    <tr>\n",
       "      <th>33</th>\n",
       "      <td>34</td>\n",
       "      <td>Ed Sheeran</td>\n",
       "      <td>Link</td>\n",
       "      <td>No</td>\n",
       "      <td>52.9</td>\n",
       "      <td>English</td>\n",
       "      <td>Music</td>\n",
       "      <td>United Kingdom</td>\n",
       "    </tr>\n",
       "    <tr>\n",
       "      <th>34</th>\n",
       "      <td>35</td>\n",
       "      <td>LooLoo Kids</td>\n",
       "      <td>Link</td>\n",
       "      <td>Yes</td>\n",
       "      <td>52.6</td>\n",
       "      <td>English</td>\n",
       "      <td>Music</td>\n",
       "      <td>Romania</td>\n",
       "    </tr>\n",
       "    <tr>\n",
       "      <th>35</th>\n",
       "      <td>36</td>\n",
       "      <td>Ariana Grande</td>\n",
       "      <td>Link</td>\n",
       "      <td>No</td>\n",
       "      <td>52.3</td>\n",
       "      <td>English</td>\n",
       "      <td>Music</td>\n",
       "      <td>United States</td>\n",
       "    </tr>\n",
       "    <tr>\n",
       "      <th>36</th>\n",
       "      <td>37</td>\n",
       "      <td>Yash Raj Films</td>\n",
       "      <td>Link</td>\n",
       "      <td>Yes</td>\n",
       "      <td>51.7</td>\n",
       "      <td>Hindi</td>\n",
       "      <td>Music</td>\n",
       "      <td>India</td>\n",
       "    </tr>\n",
       "    <tr>\n",
       "      <th>37</th>\n",
       "      <td>38</td>\n",
       "      <td>Taylor Swift</td>\n",
       "      <td>Link</td>\n",
       "      <td>No</td>\n",
       "      <td>50.9</td>\n",
       "      <td>English</td>\n",
       "      <td>Music</td>\n",
       "      <td>United States</td>\n",
       "    </tr>\n",
       "    <tr>\n",
       "      <th>38</th>\n",
       "      <td>39</td>\n",
       "      <td>BillionSurpriseToys</td>\n",
       "      <td>Link</td>\n",
       "      <td>Yes</td>\n",
       "      <td>50.1</td>\n",
       "      <td>English</td>\n",
       "      <td>Entertainment</td>\n",
       "      <td>United States</td>\n",
       "    </tr>\n",
       "    <tr>\n",
       "      <th>39</th>\n",
       "      <td>40</td>\n",
       "      <td>Infobells</td>\n",
       "      <td>Link</td>\n",
       "      <td>Yes</td>\n",
       "      <td>48.8</td>\n",
       "      <td>Hindi</td>\n",
       "      <td>Education</td>\n",
       "      <td>India</td>\n",
       "    </tr>\n",
       "    <tr>\n",
       "      <th>40</th>\n",
       "      <td>41</td>\n",
       "      <td>Billie Eilish</td>\n",
       "      <td>Link</td>\n",
       "      <td>No</td>\n",
       "      <td>47.3</td>\n",
       "      <td>English</td>\n",
       "      <td>Music</td>\n",
       "      <td>United States</td>\n",
       "    </tr>\n",
       "    <tr>\n",
       "      <th>41</th>\n",
       "      <td>42</td>\n",
       "      <td>JuegaGerman</td>\n",
       "      <td>Link</td>\n",
       "      <td>No</td>\n",
       "      <td>47.1</td>\n",
       "      <td>Spanish</td>\n",
       "      <td>Games</td>\n",
       "      <td>Chile</td>\n",
       "    </tr>\n",
       "    <tr>\n",
       "      <th>42</th>\n",
       "      <td>43</td>\n",
       "      <td>Badabun</td>\n",
       "      <td>Link</td>\n",
       "      <td>Yes</td>\n",
       "      <td>46.4</td>\n",
       "      <td>Spanish</td>\n",
       "      <td>Entertainment</td>\n",
       "      <td>Mexico</td>\n",
       "    </tr>\n",
       "    <tr>\n",
       "      <th>43</th>\n",
       "      <td>44</td>\n",
       "      <td>Fernanfloo</td>\n",
       "      <td>Link</td>\n",
       "      <td>No</td>\n",
       "      <td>45.6</td>\n",
       "      <td>Spanish</td>\n",
       "      <td>Games</td>\n",
       "      <td>El Salvador</td>\n",
       "    </tr>\n",
       "    <tr>\n",
       "      <th>44</th>\n",
       "      <td>45</td>\n",
       "      <td>Bad Bunny</td>\n",
       "      <td>Link</td>\n",
       "      <td>No</td>\n",
       "      <td>45.2</td>\n",
       "      <td>Spanish</td>\n",
       "      <td>Music</td>\n",
       "      <td>United States ( Puerto Rico)</td>\n",
       "    </tr>\n",
       "    <tr>\n",
       "      <th>45</th>\n",
       "      <td>47</td>\n",
       "      <td>SonyMusicIndiaVEVO</td>\n",
       "      <td>Link</td>\n",
       "      <td>Yes</td>\n",
       "      <td>45.0</td>\n",
       "      <td>Hindi</td>\n",
       "      <td>Music</td>\n",
       "      <td>India</td>\n",
       "    </tr>\n",
       "    <tr>\n",
       "      <th>46</th>\n",
       "      <td>46</td>\n",
       "      <td>Felipe Neto</td>\n",
       "      <td>Link</td>\n",
       "      <td>No</td>\n",
       "      <td>44.8</td>\n",
       "      <td>Portuguese</td>\n",
       "      <td>Entertainment</td>\n",
       "      <td>Brazil</td>\n",
       "    </tr>\n",
       "    <tr>\n",
       "      <th>47</th>\n",
       "      <td>48</td>\n",
       "      <td>Bright Side</td>\n",
       "      <td>Link</td>\n",
       "      <td>Yes</td>\n",
       "      <td>44.4</td>\n",
       "      <td>English</td>\n",
       "      <td>Entertainment</td>\n",
       "      <td>Cyprus[a]</td>\n",
       "    </tr>\n",
       "    <tr>\n",
       "      <th>48</th>\n",
       "      <td>49</td>\n",
       "      <td>Você Sabia?</td>\n",
       "      <td>Link</td>\n",
       "      <td>No</td>\n",
       "      <td>44.1</td>\n",
       "      <td>Portuguese</td>\n",
       "      <td>Entertainment</td>\n",
       "      <td>Brazil</td>\n",
       "    </tr>\n",
       "  </tbody>\n",
       "</table>\n",
       "</div>"
      ],
      "text/plain": [
       "   rank                                 name  link brand channel  \\\n",
       "0     1                             T-Series  Link           Yes   \n",
       "1     2                            Cocomelon  Link           Yes   \n",
       "2     3  Sony Entertainment Television India  Link           Yes   \n",
       "3     4                              MrBeast  Link            No   \n",
       "4     5                            PewDiePie  Link            No   \n",
       "5     6                      Kids Diana Show  Link           Yes   \n",
       "6     7                          Like Nastya  Link            No   \n",
       "7     8                                  WWE  Link           Yes   \n",
       "8     9                        Vlad and Niki  Link            No   \n",
       "9    10                    Zee Music Company  Link           Yes   \n",
       "10   11                            Blackpink  Link           Yes   \n",
       "11   12                            Goldmines  Link           Yes   \n",
       "12   13                      5-Minute Crafts  Link           Yes   \n",
       "13   14                             Sony SAB  Link           Yes   \n",
       "14   15                            BangtanTV  Link            No   \n",
       "15   16                        Justin Bieber  Link            No   \n",
       "16   17                          Hybe Labels  Link           Yes   \n",
       "17   18                      Canal KondZilla  Link           Yes   \n",
       "18   19                               Zee TV  Link           Yes   \n",
       "19   20                             Pinkfong  Link           Yes   \n",
       "20   21               Shemaroo Entertainment  Link           Yes   \n",
       "21   22                            ChuChu TV  Link           Yes   \n",
       "22   23                            Colors TV  Link           Yes   \n",
       "23   24                         Dude Perfect  Link            No   \n",
       "24   25                           Movieclips  Link           Yes   \n",
       "25   26                T-Series Bhakti Sagar  Link           Yes   \n",
       "26   27                      Tips Industries  Link           Yes   \n",
       "27   28                           Marshmello  Link            No   \n",
       "28   29                           Wave Music  Link           Yes   \n",
       "29   30                     Sony Music India  Link           Yes   \n",
       "30   31                              Aaj Tak  Link           Yes   \n",
       "31   33                    El Reino Infantil  Link           Yes   \n",
       "32   32                               Eminem  Link            No   \n",
       "33   34                           Ed Sheeran  Link            No   \n",
       "34   35                          LooLoo Kids  Link           Yes   \n",
       "35   36                        Ariana Grande  Link            No   \n",
       "36   37                       Yash Raj Films  Link           Yes   \n",
       "37   38                         Taylor Swift  Link            No   \n",
       "38   39                  BillionSurpriseToys  Link           Yes   \n",
       "39   40                            Infobells  Link           Yes   \n",
       "40   41                        Billie Eilish  Link            No   \n",
       "41   42                          JuegaGerman  Link            No   \n",
       "42   43                              Badabun  Link           Yes   \n",
       "43   44                           Fernanfloo  Link            No   \n",
       "44   45                            Bad Bunny  Link            No   \n",
       "45   47                   SonyMusicIndiaVEVO  Link           Yes   \n",
       "46   46                          Felipe Neto  Link            No   \n",
       "47   48                          Bright Side  Link           Yes   \n",
       "48   49                          Você Sabia?  Link            No   \n",
       "\n",
       "    subscribers (millions) primary language       category  \\\n",
       "0                    235.0            Hindi          Music   \n",
       "1                    153.0          English      Education   \n",
       "2                    151.0            Hindi  Entertainment   \n",
       "3                    132.0          English  Entertainment   \n",
       "4                    111.0          English          Games   \n",
       "5                    107.0          English  Entertainment   \n",
       "6                    104.0          English  Entertainment   \n",
       "7                     93.2          English         Sports   \n",
       "8                     93.1          English  Entertainment   \n",
       "9                     92.1            Hindi          Music   \n",
       "10                    84.2           Korean          Music   \n",
       "11                    81.9            Hindi           Film   \n",
       "12                    78.7          English         How-to   \n",
       "13                    76.9            Hindi  Entertainment   \n",
       "14                    73.4           Korean          Music   \n",
       "15                    70.9          English          Music   \n",
       "16                    69.2           Korean          Music   \n",
       "17                    66.4       Portuguese          Music   \n",
       "18                    65.6            Hindi  Entertainment   \n",
       "19                    65.1          English      Education   \n",
       "20                    63.7            Hindi          Music   \n",
       "21                    61.5            Hindi      Education   \n",
       "22                    59.7            Hindi  Entertainment   \n",
       "23                    58.6          English         Sports   \n",
       "24                    58.6          English           Film   \n",
       "25                    57.6            Hindi          Music   \n",
       "26                    56.6            Hindi  Entertainment   \n",
       "27                    56.1          English          Music   \n",
       "28                    56.0         Bhojpuri          Music   \n",
       "29                    55.7            Hindi          Music   \n",
       "30                    55.5            Hindi           News   \n",
       "31                    55.3          Spanish          Music   \n",
       "32                    55.2          English          Music   \n",
       "33                    52.9          English          Music   \n",
       "34                    52.6          English          Music   \n",
       "35                    52.3          English          Music   \n",
       "36                    51.7            Hindi          Music   \n",
       "37                    50.9          English          Music   \n",
       "38                    50.1          English  Entertainment   \n",
       "39                    48.8            Hindi      Education   \n",
       "40                    47.3          English          Music   \n",
       "41                    47.1          Spanish          Games   \n",
       "42                    46.4          Spanish  Entertainment   \n",
       "43                    45.6          Spanish          Games   \n",
       "44                    45.2          Spanish          Music   \n",
       "45                    45.0            Hindi          Music   \n",
       "46                    44.8       Portuguese  Entertainment   \n",
       "47                    44.4          English  Entertainment   \n",
       "48                    44.1       Portuguese  Entertainment   \n",
       "\n",
       "                         country  \n",
       "0                          India  \n",
       "1                  United States  \n",
       "2                          India  \n",
       "3                  United States  \n",
       "4                         Sweden  \n",
       "5                        Ukraine  \n",
       "6                  United States  \n",
       "7                  United States  \n",
       "8                         Russia  \n",
       "9                          India  \n",
       "10                   South Korea  \n",
       "11                         India  \n",
       "12                     Cyprus[a]  \n",
       "13                         India  \n",
       "14                   South Korea  \n",
       "15                        Canada  \n",
       "16                   South Korea  \n",
       "17                        Brazil  \n",
       "18                         India  \n",
       "19                   South Korea  \n",
       "20                         India  \n",
       "21                         India  \n",
       "22                         India  \n",
       "23                 United States  \n",
       "24                 United States  \n",
       "25                         India  \n",
       "26                         India  \n",
       "27                 United States  \n",
       "28                         India  \n",
       "29                         India  \n",
       "30                         India  \n",
       "31                     Argentina  \n",
       "32                 United States  \n",
       "33                United Kingdom  \n",
       "34                       Romania  \n",
       "35                 United States  \n",
       "36                         India  \n",
       "37                 United States  \n",
       "38                 United States  \n",
       "39                         India  \n",
       "40                 United States  \n",
       "41                         Chile  \n",
       "42                        Mexico  \n",
       "43                   El Salvador  \n",
       "44  United States ( Puerto Rico)  \n",
       "45                         India  \n",
       "46                        Brazil  \n",
       "47                     Cyprus[a]  \n",
       "48                        Brazil  "
      ]
     },
     "execution_count": 5,
     "metadata": {},
     "output_type": "execute_result"
    }
   ],
   "source": [
    "# parse data from the html into a beautifulsoup object\n",
    "dataFrameArray = []\n",
    "# for response in wikiResponseArray:\n",
    "soup = bs(wikiResponseArray[0][1].text, 'html.parser')\n",
    "indiatable=soup.find('table',{'class':\"wikitable sortable\"})\n",
    "df=pd.read_html(str(indiatable))\n",
    "df=pd.DataFrame(df[0]).head(49)\n",
    "df['Subscribers (millions)'] = df['Subscribers (millions)'].astype(str).str.replace('$', '',regex=True).astype('float')\n",
    "df['Primary language'] = df['Primary language'].str.replace('[^a-zA-Z]', '',regex=True)\n",
    "df.columns= df.columns.str.lower()\n",
    "df"
   ]
  },
  {
   "cell_type": "markdown",
   "metadata": {},
   "source": [
    "## Analysis 1:- How subscribers count correlates to video views of a video in youtube."
   ]
  },
  {
   "cell_type": "code",
   "execution_count": 6,
   "metadata": {},
   "outputs": [
    {
     "data": {
      "text/plain": [
       "<AxesSubplot:xlabel='subscribers', ylabel='video views'>"
      ]
     },
     "execution_count": 6,
     "metadata": {},
     "output_type": "execute_result"
    },
    {
     "data": {
      "image/png": "[encoded data removed]",
      "text/plain": [
       "<Figure size 432x288 with 1 Axes>"
      ]
     },
     "metadata": {
      "needs_background": "light"
     },
     "output_type": "display_data"
    }
   ],
   "source": [
    "sns.regplot(data=table_df, x='subscribers', y='video views')"
   ]
  },
  {
   "cell_type": "code",
   "execution_count": 7,
   "metadata": {},
   "outputs": [
    {
     "name": "stdout",
     "output_type": "stream",
     "text": [
      "r = 0.7921847924535839 p = 2.149222422245282e-209\n"
     ]
    }
   ],
   "source": [
    "# Pearson correlation coefficient r\n",
    "(r,p) = stats.pearsonr(table_df.subscribers, table_df['video views'])\n",
    "print('r =', r, 'p =', p)"
   ]
  },
  {
   "cell_type": "markdown",
   "metadata": {},
   "source": [
    "## Analysis 2:- How subscribers count correlates to rank in youtube channel."
   ]
  },
  {
   "cell_type": "code",
   "execution_count": 8,
   "metadata": {},
   "outputs": [
    {
     "data": {
      "text/plain": [
       "<AxesSubplot:xlabel='subscribers', ylabel='rank'>"
      ]
     },
     "execution_count": 8,
     "metadata": {},
     "output_type": "execute_result"
    },
    {
     "data": {
      "image/png": "[encoded data removed]",
      "text/plain": [
       "<Figure size 432x288 with 1 Axes>"
      ]
     },
     "metadata": {
      "needs_background": "light"
     },
     "output_type": "display_data"
    }
   ],
   "source": [
    "sns.regplot(data=table_df, x='subscribers', y='rank')"
   ]
  },
  {
   "cell_type": "code",
   "execution_count": 9,
   "metadata": {},
   "outputs": [
    {
     "name": "stdout",
     "output_type": "stream",
     "text": [
      "r = -0.6445177202223571 p = 9.798768572498547e-115\n"
     ]
    }
   ],
   "source": [
    "# Pearson correlation coefficient r\n",
    "(r,p) = stats.pearsonr(table_df['subscribers'],table_df['rank'])\n",
    "print('r =', r, 'p =', p)"
   ]
  },
  {
   "cell_type": "code",
   "execution_count": 10,
   "metadata": {},
   "outputs": [
    {
     "data": {
      "text/plain": [
       "<AxesSubplot:xlabel='video count', ylabel='older'>"
      ]
     },
     "execution_count": 10,
     "metadata": {},
     "output_type": "execute_result"
    },
    {
     "data": {
      "image/png": "[encoded data removed]",
      "text/plain": [
       "<Figure size 432x288 with 1 Axes>"
      ]
     },
     "metadata": {
      "needs_background": "light"
     },
     "output_type": "display_data"
    }
   ],
   "source": [
    "sns.scatterplot(data=table_df, x='video count', y='older')"
   ]
  },
  {
   "cell_type": "code",
   "execution_count": 11,
   "metadata": {},
   "outputs": [
    {
     "data": {
      "text/plain": [
       "<AxesSubplot:xlabel='video count', ylabel='video views'>"
      ]
     },
     "execution_count": 11,
     "metadata": {},
     "output_type": "execute_result"
    },
    {
     "data": {
      "image/png": "[encoded data removed]",
      "text/plain": [
       "<Figure size 432x288 with 1 Axes>"
      ]
     },
     "metadata": {
      "needs_background": "light"
     },
     "output_type": "display_data"
    }
   ],
   "source": [
    "sns.scatterplot(data=table_df, x='video count', y='video views')"
   ]
  },
  {
   "cell_type": "code",
   "execution_count": 12,
   "metadata": {},
   "outputs": [
    {
     "data": {
      "text/plain": [
       "<AxesSubplot:xlabel='video count', ylabel='subscribers'>"
      ]
     },
     "execution_count": 12,
     "metadata": {},
     "output_type": "execute_result"
    },
    {
     "data": {
      "image/png": "[encoded data removed]",
      "text/plain": [
       "<Figure size 432x288 with 1 Axes>"
      ]
     },
     "metadata": {
      "needs_background": "light"
     },
     "output_type": "display_data"
    }
   ],
   "source": [
    "sns.scatterplot(data=table_df, x='video count', y='subscribers')"
   ]
  },
  {
   "cell_type": "code",
   "execution_count": 13,
   "metadata": {},
   "outputs": [
    {
     "data": {
      "text/plain": [
       "<AxesSubplot:xlabel='subscribers', ylabel='video views'>"
      ]
     },
     "execution_count": 13,
     "metadata": {},
     "output_type": "execute_result"
    },
    {
     "data": {
      "image/png": "[encoded data removed]",
      "text/plain": [
       "<Figure size 432x288 with 1 Axes>"
      ]
     },
     "metadata": {
      "needs_background": "light"
     },
     "output_type": "display_data"
    }
   ],
   "source": [
    "sns.scatterplot(data=table_df, x='subscribers', y='video views')"
   ]
  },
  {
   "cell_type": "code",
   "execution_count": 14,
   "metadata": {},
   "outputs": [
    {
     "data": {
      "text/plain": [
       "<AxesSubplot:xlabel='category', ylabel='subscribers'>"
      ]
     },
     "execution_count": 14,
     "metadata": {},
     "output_type": "execute_result"
    },
    {
     "data": {
      "image/png": "[encoded data removed]",
      "text/plain": [
       "<Figure size 1080x432 with 1 Axes>"
      ]
     },
     "metadata": {
      "needs_background": "light"
     },
     "output_type": "display_data"
    }
   ],
   "source": [
    "fig, ax = plt.subplots(figsize=(15, 6))\n",
    "\n",
    "plt.xticks(rotation='vertical', fontsize=12)\n",
    "plt.xlabel('category', fontsize=18)\n",
    "plt.ylabel('subscribers', fontsize=18)\n",
    "\n",
    "categoryToSubscribers = table_df.groupby(['category']).agg({'subscribers':'sum'}).reset_index()\n",
    "sns.barplot(data=categoryToSubscribers, x='category', y='subscribers')"
   ]
  },
  {
   "cell_type": "code",
   "execution_count": 16,
   "metadata": {},
   "outputs": [
    {
     "data": {
      "text/plain": [
       "<AxesSubplot:xlabel='country', ylabel='subscribers (millions)'>"
      ]
     },
     "execution_count": 16,
     "metadata": {},
     "output_type": "execute_result"
    },
    {
     "data": {
      "image/png": "[encoded data removed]",
      "text/plain": [
       "<Figure size 1080x432 with 1 Axes>"
      ]
     },
     "metadata": {
      "needs_background": "light"
     },
     "output_type": "display_data"
    }
   ],
   "source": [
    "fig, ax = plt.subplots(figsize=(15, 6))\n",
    "\n",
    "plt.xticks(rotation='vertical', fontsize=12)\n",
    "plt.xlabel('Country', fontsize=18)\n",
    "plt.ylabel('subscribers', fontsize=18)\n",
    "\n",
    "countryToSubscribers = df.groupby(['country']).agg({'subscribers (millions)':'sum'}).reset_index()\n",
    "sns.barplot(data=countryToSubscribers, x='country', y='subscribers (millions)')"
   ]
  },
  {
   "cell_type": "code",
   "execution_count": 17,
   "metadata": {},
   "outputs": [
    {
     "data": {
      "text/plain": [
       "<AxesSubplot:xlabel='primary language', ylabel='subscribers (millions)'>"
      ]
     },
     "execution_count": 17,
     "metadata": {},
     "output_type": "execute_result"
    },
    {
     "data": {
      "image/png": "[encoded data removed]",
      "text/plain": [
       "<Figure size 1080x432 with 1 Axes>"
      ]
     },
     "metadata": {
      "needs_background": "light"
     },
     "output_type": "display_data"
    }
   ],
   "source": [
    "fig, ax = plt.subplots(figsize=(15, 6))\n",
    "\n",
    "plt.xticks(rotation='vertical', fontsize=12)\n",
    "plt.xlabel('Country', fontsize=18)\n",
    "plt.ylabel('subscribers', fontsize=18)\n",
    "\n",
    "countryToSubscribers = df.groupby(['primary language']).agg({'subscribers (millions)':'sum'}).reset_index()\n",
    "sns.barplot(data=countryToSubscribers, x='primary language', y='subscribers (millions)')"
   ]
  },
  {
   "cell_type": "code",
   "execution_count": 19,
   "metadata": {},
   "outputs": [
    {
     "data": {
      "text/plain": [
       "<AxesSubplot:xlabel='primary language', ylabel='video count'>"
      ]
     },
     "execution_count": 19,
     "metadata": {},
     "output_type": "execute_result"
    },
    {
     "data": {
      "image/png": "[encoded data removed]",
      "text/plain": [
       "<Figure size 1080x432 with 1 Axes>"
      ]
     },
     "metadata": {
      "needs_background": "light"
     },
     "output_type": "display_data"
    }
   ],
   "source": [
    "fig, ax = plt.subplots(figsize=(15, 6))\n",
    "\n",
    "plt.xticks(rotation='vertical', fontsize=12)\n",
    "plt.xlabel('primary language', fontsize=18)\n",
    "plt.ylabel('video count', fontsize=18)\n",
    "\n",
    "df['rank'] = df['rank'].astype(str).str.replace('$', '',regex=True).astype('int64')\n",
    "table_df['rank'] = table_df['rank'].astype(str).str.replace('$', '',regex=True).astype('int64')\n",
    "\n",
    "mergedTable = pd.merge(df, table_df, on='rank')\n",
    "\n",
    "mergedTable\n",
    "countryToSubscribers = mergedTable.groupby(['primary language']).agg({'video count':'sum'}).reset_index()\n",
    "sns.barplot(data=countryToSubscribers, x='primary language', y='video count')"
   ]
  },
  {
   "cell_type": "code",
   "execution_count": 39,
   "metadata": {},
   "outputs": [
    {
     "data": {
      "text/plain": [
       "<seaborn.axisgrid.FacetGrid at 0x7fd8ee7b8430>"
      ]
     },
     "execution_count": 39,
     "metadata": {},
     "output_type": "execute_result"
    },
    {
     "data": {
      "image/png": "[encoded data removed]",
      "text/plain": [
       "<Figure size 1520.12x720 with 1 Axes>"
      ]
     },
     "metadata": {
      "needs_background": "light"
     },
     "output_type": "display_data"
    }
   ],
   "source": [
    "df['rank'] = df['rank'].astype(str).str.replace('$', '',regex=True).astype('int64')\n",
    "table_df['rank'] = table_df['rank'].astype(str).str.replace('$', '',regex=True).astype('int64')\n",
    "\n",
    "mergedTable = pd.merge(df.head(48), table_df, on='rank')\n",
    "mergedTable\n",
    "\n",
    "sns.catplot(x='country', hue='brand channel', data=mergedTable, kind='count', height=10, aspect=2)"
   ]
  },
  {
   "cell_type": "code",
   "execution_count": 45,
   "metadata": {},
   "outputs": [
    {
     "data": {
      "text/plain": [
       "<AxesSubplot:xlabel='country', ylabel='video views'>"
      ]
     },
     "execution_count": 45,
     "metadata": {},
     "output_type": "execute_result"
    },
    {
     "data": {
      "image/png": "[encoded data removed]",
      "text/plain": [
       "<Figure size 1080x432 with 1 Axes>"
      ]
     },
     "metadata": {
      "needs_background": "light"
     },
     "output_type": "display_data"
    }
   ],
   "source": [
    "fig, ax = plt.subplots(figsize=(15, 6))\n",
    "\n",
    "plt.xticks(rotation='vertical', fontsize=12)\n",
    "plt.xlabel('primary language', fontsize=18)\n",
    "plt.ylabel('video count', fontsize=18)\n",
    "\n",
    "df['rank'] = df['rank'].astype(str).str.replace('$', '',regex=True).astype('int64')\n",
    "table_df['rank'] = table_df['rank'].astype(str).str.replace('$', '',regex=True).astype('int64')\n",
    "\n",
    "mergedTable = pd.merge(df, table_df, on='rank')\n",
    "\n",
    "mergedTable\n",
    "countryToSubscribers = mergedTable.groupby(['country']).agg({'video views':'sum'}).reset_index()\n",
    "sns.barplot(data=countryToSubscribers, x='country', y='video views')"
   ]
  },
  {
   "cell_type": "code",
   "execution_count": null,
   "metadata": {},
   "outputs": [],
   "source": []
  }
 ],
 "metadata": {
  "colab": {
   "provenance": []
  },
  "kernelspec": {
   "display_name": "Python 3 (ipykernel)",
   "language": "python",
   "name": "python3"
  },
  "language_info": {
   "codemirror_mode": {
    "name": "ipython",
    "version": 3
   },
   "file_extension": ".py",
   "mimetype": "text/x-python",
   "name": "python",
   "nbconvert_exporter": "python",
   "pygments_lexer": "ipython3",
   "version": "3.9.12"
  }
 },
 "nbformat": 4,
 "nbformat_minor": 1
}
